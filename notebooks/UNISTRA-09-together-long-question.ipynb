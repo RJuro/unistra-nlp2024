{
 "cells": [
  {
   "cell_type": "markdown",
   "metadata": {},
   "source": [
    "# Deriving Insights from Lengthy Documents with LLMs\n",
    "\n",
    "This tutorial focuses on utilizing large language models (LLMs) to extract structured information from exceptionally long documents. The challenge lies in enabling the model to perform advanced analysis while maintaining a consistent output format, accounting for all relevant details, and avoiding off-topic or fabricated responses.\n",
    "\n",
    "We will explore techniques for guiding the LLM to deliver accurate and comprehensive insights from lengthy documents, ensuring that the model remains on track and provides valuable information."
   ]
  },
  {
   "cell_type": "code",
   "execution_count": null,
   "metadata": {},
   "outputs": [],
   "source": [
    "# download and unzip the data from github using wget and unzip\n",
    "\n",
    "!wget https://colab.research.google.com/github/rjuro/unistra-nlp2024/blob/main/data/interviews.zip\n",
    "# unzip in a folder called interviews\n",
    "!mkdir interviews\n",
    "!mv interviews.zip interviews\n",
    "!cd interviews && unzip interviews.zip"
   ]
  },
  {
   "cell_type": "code",
   "execution_count": null,
   "metadata": {},
   "outputs": [],
   "source": [
    "!pip install openai -q"
   ]
  },
  {
   "cell_type": "code",
   "execution_count": 2,
   "metadata": {},
   "outputs": [],
   "source": [
    "from openai import OpenAI"
   ]
  },
  {
   "cell_type": "code",
   "execution_count": 3,
   "metadata": {},
   "outputs": [],
   "source": [
    "# get your API key from together.ai and then import here\n",
    "from google.colab import userdata\n",
    "TOGETHER_API_KEY = userdata.get('TOGETHER_API_KEY')"
   ]
  },
  {
   "cell_type": "code",
   "execution_count": 9,
   "metadata": {},
   "outputs": [],
   "source": [
    "#load text file into a text variable\n",
    "with open(\"interviews/Sonos_ John MacFarlane-transcript.txt\", \"r\") as f:\n",
    "    text = f.read()"
   ]
  },
  {
   "cell_type": "code",
   "execution_count": 4,
   "metadata": {},
   "outputs": [],
   "source": [
    "system_prompt = \"\"\"\"You are a hyperinteligent information extraction engine with strong focus to detail.\"\"\""
   ]
  },
  {
   "cell_type": "code",
   "execution_count": 5,
   "metadata": {},
   "outputs": [],
   "source": [
    "instruction = \"\"\"\n",
    "Extract information about the entrepreneurial journey from the interview below. Make sure to pay attention to all details. \n",
    "Answer following questions based on the provided interview. then provide the answers as JSON output.\n",
    "Alwasy provide example from the interview in the \"example\" field.\n",
    "\"possible_categories\" are not exclusive. You can add more categories if you find any relevant.\n",
    "Include a short summary of the interview and entrepreneurial journey in the \"summary\" field.\n",
    "Disregard the commercials in the interview.\n",
    "\n",
    "Here are the categories and questions:\n",
    "\n",
    "Means at Hand:\n",
    "What initial resources were mentioned as being available at the start of the venture, such as personal expertise, networks, or funding?\n",
    "Which resources were emphasized as most relied upon in the early stages of the venture, and how did they contribute to its initial development?\n",
    "Affordable Loss:\n",
    "How is risk approached in business decisions, particularly regarding potential losses, as described in the interview?\n",
    "Is there a situation detailed where potential loss was weighed against a business opportunity? What level of loss was deemed acceptable (low, medium, high)?\n",
    "Strategic Partnerships:\n",
    "Are there mentions of strategic partnerships, collaborations, alliances, or mentorships formed?\n",
    "How were these partnerships said to contribute to the venture's development and success?\n",
    "Leveraging Contingencies:\n",
    "Were there instances where unexpected challenges were turned into opportunities for the business, as per the interview?\n",
    "Can an example be found in the interview of adapting to a significant challenge and the outcome of this pivot?\n",
    "Goal Reassessment and Iteration:\n",
    "How frequently does the interview indicate the business goals or models are reassessed in response to new information or market feedback?\n",
    "Is there a specific instance mentioned where feedback led to a change in business strategy or goals? What was the impact of this change?\n",
    "Market Research and Analysis:\n",
    "How was the market for the product or service understood, according to the interview?\n",
    "What methods for market research and analysis are described, and what were the key outcomes of this process?\n",
    "Funding and Investment:\n",
    "What strategies for securing funding for the venture are discussed in the interview?\n",
    "Are types of investments pursued mentioned, along with the strategic considerations behind these choices?\n",
    "Crisis Management and Adaptability:\n",
    "How is managing crises or significant challenges in the business described?\n",
    "Is an example provided of a crisis faced and the strategies used to overcome it? What was the effectiveness of these approaches?\n",
    "\n",
    "\n",
    "INTERVIEW:\n",
    "\\n\\n\n",
    "\"\"\""
   ]
  },
  {
   "cell_type": "code",
   "execution_count": 6,
   "metadata": {},
   "outputs": [],
   "source": [
    "json_template_instruction = \"\"\"\n",
    "\n",
    "    INSTRUCTION:\n",
    "Follow the below template and output valid JSON:\n",
    "\n",
    "\n",
    "{\n",
    "  \"summary\": \"...\",\n",
    "  \"categories\": [\n",
    "    {\n",
    "      \"name\": \"Means at Hand\",\n",
    "      \"quantification_method\": \"categorization\",\n",
    "      \"possible_categories\": [\"strong network\", \"industry expertise\", \"initial capital\"],\n",
    "      \"selected_categories\": [...],\n",
    "      \"description\": \"The resources and assets available at the start, including personal skills, networks, and financial resources.\",\n",
    "      \"example\": \"...\"\n",
    "    },\n",
    "    {\n",
    "      \"name\": \"Affordable Loss\",\n",
    "      \"quantification_method\": \"level\",\n",
    "      \"possible_levels\": [\"low\", \"medium\", \"high\"],\n",
    "      \"selected_level\": \"...\",\n",
    "      \"description\": \"The level of loss the entrepreneur is prepared to risk, focusing on manageable losses rather than expected gains.\",\n",
    "      \"example\": \"...\"\n",
    "    },\n",
    "    {\n",
    "      \"name\": \"Strategic Partnerships\",\n",
    "      \"quantification_method\": \"count_and_type\",\n",
    "      \"possible_types\": [\"co-founders\", \"mentors\", \"alliances\"],\n",
    "      \"selected_types\": [...],\n",
    "      \"description\": \"The formation of strategic partnerships, including co-founders, mentors, and alliances, and their contributions to development.\",\n",
    "      \"example\": \"...\"\n",
    "    },\n",
    "    {\n",
    "      \"name\": \"Leveraging Contingencies\",\n",
    "      \"quantification_method\": \"examples_and_outcomes\",\n",
    "      \"description\": \"How unexpected events were turned into opportunities, detailing the pivot or adaptation made.\",\n",
    "      \"example\": \"...\"\n",
    "    },\n",
    "    {\n",
    "      \"name\": \"Goal Reassessment and Iteration\",\n",
    "      \"quantification_method\": \"frequency_and_impact\",\n",
    "      \"description\": \"The frequency and impact of reassessing goals and business models in response to new information or feedback.\",\n",
    "      \"example\": \"...\"\n",
    "    },\n",
    "    {\n",
    "      \"name\": \"Market Research and Analysis\",\n",
    "      \"quantification_method\": \"descriptive\",\n",
    "      \"description\": \"Approaches to market research and analysis to identify opportunities, validate business ideas, and adapt to market changes.\",\n",
    "      \"example\": \"...\"\n",
    "    },\n",
    "    {\n",
    "      \"name\": \"Funding and Investment\",\n",
    "      \"quantification_method\": \"categorization\",\n",
    "      \"possible_categories\": [\"bootstrapping\", \"angel investment\", \"venture capital\"],\n",
    "      \"selected_categories\": [...],\n",
    "      \"description\": \"Strategies for securing financial resources, including the sources of funding and strategic considerations behind funding choices.\",\n",
    "      \"example\": \"...\"\n",
    "    },\n",
    "    {\n",
    "      \"name\": \"Crisis Management and Adaptability\",\n",
    "      \"quantification_method\": \"examples_and_strategies\",\n",
    "      \"description\": \"The entrepreneur's ability to manage crises and adapt to challenges, including strategies for navigating obstacles.\",\n",
    "      \"example\": \"...\"\n",
    "    }\n",
    "  ]\n",
    "}\n",
    "\n",
    "\n",
    "Output valid JSON only.\n",
    "\n",
    "\"\"\"\n"
   ]
  },
  {
   "cell_type": "code",
   "execution_count": 10,
   "metadata": {},
   "outputs": [],
   "source": [
    "PROMPT = instruction + text + json_template_instruction"
   ]
  },
  {
   "cell_type": "code",
   "execution_count": 15,
   "metadata": {},
   "outputs": [
    {
     "name": "stdout",
     "output_type": "stream",
     "text": [
      "ChatCompletionMessage(content=' {\\n  \"summary\": \"John MacFarlane, co-founder and former CEO of Sonos, shares the story of building a successful wireless speaker company in a highly competitive market. MacFarlane and his partners faced skepticism and challenges but managed to create a product that filled a niche for high-quality, wireless home audio. The company\\'s success can be attributed to a strong network, industry expertise, and strategic partnerships. MacFarlane emphasizes the importance of leveraging contingencies, reassessing goals, and effective crisis management in the entrepreneurial journey.\",\\n  \"categories\": [\\n    {\\n      \"name\": \"Means at Hand\",\\n      \"quantification_method\": \"categorization\",\\n      \"possible_categories\": [\"strong network\", \"industry expertise\", \"initial capital\"],\\n      \"selected_categories\": [\"strong network\", \"industry expertise\"],\\n      \"description\": \"The resources and assets available at the start, including personal skills, networks, and financial resources.\",\\n      \"example\": \"MacFarlane and his partners had strong industry expertise in electrical engineering and software development, as well as a robust network from their previous ventures.\"\\n    },\\n    {\\n      \"name\": \"Affordable Loss\",\\n      \"quantification_method\": \"level\",\\n      \"possible_levels\": [\"low\", \"medium\", \"high\"],\\n      \"selected_level\": \"medium\",\\n      \"description\": \"The level of loss the entrepreneur is prepared to risk, focusing on manageable losses rather than expected gains.\",\\n      \"example\": \"MacFarlane and his partners were prepared to invest their own money and accept a medium level of risk in order to bring their vision to life.\"\\n    },\\n    {\\n      \"name\": \"Strategic Partnerships\",\\n      \"quantification_method\": \"count_and_type\",\\n      \"possible_types\": [\"co-founders\", \"mentors\", \"alliances\"],\\n      \"selected_types\": [\"co-founders\"],\\n      \"description\": \"The formation of strategic partnerships, including co-founders, mentors, and alliances, and their contributions to development.\",\\n      \"example\": \"MacFarlane and his partners, Craig Shelburn, Tom Cullen, and Tru Mai, worked together at Software.com before founding Sonos, leveraging their combined expertise and experience.\"\\n    },\\n    {\\n      \"name\": \"Leveraging Contingencies\",\\n      \"quantification_method\": \"examples_and_outcomes\",\\n      \"description\": \"How unexpected events were turned into opportunities, detailing the pivot or adaptation made.\",\\n      \"example\": \"When the initial idea of selling software online proved unfeasible, MacFarlane and his partners pivoted to creating an email server, which became a successful product. This experience taught them to be adaptable and to leverage unforeseen challenges as opportunities.\"\\n    },\\n    {\\n      \"name\": \"Goal Reassessment and Iteration\",\\n      \"quantification_method\": \"frequency_and_impact\",\\n      \"description\": \"The frequency and impact of reassessing goals and business models in response to new information or feedback.\",\\n      \"example\": \"MacFarlane and his partners frequently reassessed their goals and strategies, adapting to market changes and customer feedback. For instance, they shifted their focus from standalone speakers to a more integrated system after realizing that customers preferred a seamless, multi-room audio experience.\"\\n    },\\n    {\\n      \"name\": \"Market Research and Analysis\",\\n      \"quantification_method\": \"descriptive\",\\n      \"description\": \"Approaches to market research and analysis to identify opportunities, validate business ideas, and adapt to market changes.\",\\n      \"example\": \"MacFarlane and his partners conducted extensive market research to understand the needs and preferences of their target audience, which helped them create a product that resonated with consumers.\"\\n    },\\n    {\\n      \"name\": \"Funding and Investment\",\\n      \"quantification_method\": \"categorization\",\\n      \"possible_categories\": [\"bootstrapping\", \"angel investment\", \"venture capital\"],\\n      \"selected_categories\": [\"bootstrapping\"],\\n      \"description\": \"Strategies for securing financial resources, including the sources of funding and strategic considerations behind funding choices.\",\\n      \"example\": \"MacFarlane and his partners initially self-funded the project, demonstrating their commitment and belief in the product. They later secured venture capital to support the company\\'s growth.\"\\n    },\\n    {\\n      \"name\": \"Crisis Management and Adaptability\",\\n      \"quantification_method\": \"examples_and_strategies\",\\n      \"description\": \"The entrepreneur\\'s ability to manage crises and adapt to challenges, including strategies for navigating obstacles.\",\\n      \"example\": \"MacFarlane and his partners faced skepticism and challenges from competitors, but they remained adaptable and focused on their vision. They navigated crises by staying true to their mission and continuously reassessing their goals and strategies.\"\\n    }\\n  ]\\n}', role='assistant', function_call=None, tool_calls=None)\n"
     ]
    }
   ],
   "source": [
    "# Point to the local server\n",
    "client = OpenAI(base_url=\"https://api.together.xyz/v1\", api_key=TOGETHER_API_KEY)\n",
    "\n",
    "completion = client.chat.completions.create(\n",
    "  model=\"NousResearch/Nous-Hermes-2-Mixtral-8x7B-DPO\", \n",
    "  messages=[\n",
    "    {\"role\": \"system\", \"content\": system_prompt},\n",
    "    {\"role\": \"user\", \"content\": PROMPT}\n",
    "  ],\n",
    "  temperature=0.2\n",
    "\n",
    ")\n",
    "\n",
    "print(completion.choices[0].message)"
   ]
  },
  {
   "cell_type": "code",
   "execution_count": 16,
   "metadata": {},
   "outputs": [],
   "source": [
    "import json"
   ]
  },
  {
   "cell_type": "code",
   "execution_count": 18,
   "metadata": {},
   "outputs": [
    {
     "data": {
      "text/plain": [
       "{'summary': \"John MacFarlane, co-founder and former CEO of Sonos, shares the story of building a successful wireless speaker company in a highly competitive market. MacFarlane and his partners faced skepticism and challenges but managed to create a product that filled a niche for high-quality, wireless home audio. The company's success can be attributed to a strong network, industry expertise, and strategic partnerships. MacFarlane emphasizes the importance of leveraging contingencies, reassessing goals, and effective crisis management in the entrepreneurial journey.\",\n",
       " 'categories': [{'name': 'Means at Hand',\n",
       "   'quantification_method': 'categorization',\n",
       "   'possible_categories': ['strong network',\n",
       "    'industry expertise',\n",
       "    'initial capital'],\n",
       "   'selected_categories': ['strong network', 'industry expertise'],\n",
       "   'description': 'The resources and assets available at the start, including personal skills, networks, and financial resources.',\n",
       "   'example': 'MacFarlane and his partners had strong industry expertise in electrical engineering and software development, as well as a robust network from their previous ventures.'},\n",
       "  {'name': 'Affordable Loss',\n",
       "   'quantification_method': 'level',\n",
       "   'possible_levels': ['low', 'medium', 'high'],\n",
       "   'selected_level': 'medium',\n",
       "   'description': 'The level of loss the entrepreneur is prepared to risk, focusing on manageable losses rather than expected gains.',\n",
       "   'example': 'MacFarlane and his partners were prepared to invest their own money and accept a medium level of risk in order to bring their vision to life.'},\n",
       "  {'name': 'Strategic Partnerships',\n",
       "   'quantification_method': 'count_and_type',\n",
       "   'possible_types': ['co-founders', 'mentors', 'alliances'],\n",
       "   'selected_types': ['co-founders'],\n",
       "   'description': 'The formation of strategic partnerships, including co-founders, mentors, and alliances, and their contributions to development.',\n",
       "   'example': 'MacFarlane and his partners, Craig Shelburn, Tom Cullen, and Tru Mai, worked together at Software.com before founding Sonos, leveraging their combined expertise and experience.'},\n",
       "  {'name': 'Leveraging Contingencies',\n",
       "   'quantification_method': 'examples_and_outcomes',\n",
       "   'description': 'How unexpected events were turned into opportunities, detailing the pivot or adaptation made.',\n",
       "   'example': 'When the initial idea of selling software online proved unfeasible, MacFarlane and his partners pivoted to creating an email server, which became a successful product. This experience taught them to be adaptable and to leverage unforeseen challenges as opportunities.'},\n",
       "  {'name': 'Goal Reassessment and Iteration',\n",
       "   'quantification_method': 'frequency_and_impact',\n",
       "   'description': 'The frequency and impact of reassessing goals and business models in response to new information or feedback.',\n",
       "   'example': 'MacFarlane and his partners frequently reassessed their goals and strategies, adapting to market changes and customer feedback. For instance, they shifted their focus from standalone speakers to a more integrated system after realizing that customers preferred a seamless, multi-room audio experience.'},\n",
       "  {'name': 'Market Research and Analysis',\n",
       "   'quantification_method': 'descriptive',\n",
       "   'description': 'Approaches to market research and analysis to identify opportunities, validate business ideas, and adapt to market changes.',\n",
       "   'example': 'MacFarlane and his partners conducted extensive market research to understand the needs and preferences of their target audience, which helped them create a product that resonated with consumers.'},\n",
       "  {'name': 'Funding and Investment',\n",
       "   'quantification_method': 'categorization',\n",
       "   'possible_categories': ['bootstrapping',\n",
       "    'angel investment',\n",
       "    'venture capital'],\n",
       "   'selected_categories': ['bootstrapping'],\n",
       "   'description': 'Strategies for securing financial resources, including the sources of funding and strategic considerations behind funding choices.',\n",
       "   'example': \"MacFarlane and his partners initially self-funded the project, demonstrating their commitment and belief in the product. They later secured venture capital to support the company's growth.\"},\n",
       "  {'name': 'Crisis Management and Adaptability',\n",
       "   'quantification_method': 'examples_and_strategies',\n",
       "   'description': \"The entrepreneur's ability to manage crises and adapt to challenges, including strategies for navigating obstacles.\",\n",
       "   'example': 'MacFarlane and his partners faced skepticism and challenges from competitors, but they remained adaptable and focused on their vision. They navigated crises by staying true to their mission and continuously reassessing their goals and strategies.'}]}"
      ]
     },
     "execution_count": 18,
     "metadata": {},
     "output_type": "execute_result"
    }
   ],
   "source": [
    "json.loads(completion.choices[0].message.content)"
   ]
  },
  {
   "cell_type": "markdown",
   "metadata": {},
   "source": [
    "## Automation"
   ]
  },
  {
   "cell_type": "code",
   "execution_count": 11,
   "metadata": {},
   "outputs": [],
   "source": [
    "import os\n",
    "import json\n",
    "from tqdm.auto import tqdm\n",
    "from openai import OpenAI\n",
    "from dotenv import load_dotenv\n",
    "\n",
    "# Load the environment variables\n",
    "load_dotenv()\n",
    "TOGETHER_API_KEY = os.getenv(\"TOGETHER_API_KEY\")\n",
    "\n",
    "# initialize the together client as above\n",
    "client = OpenAI(base_url=\"https://api.together.xyz/v1\", api_key=TOGETHER_API_KEY)\n",
    "\n",
    "\n",
    "# Directory containing the text files\n",
    "directory = \"interviews\"\n",
    "\n"
   ]
  },
  {
   "cell_type": "code",
   "execution_count": 12,
   "metadata": {},
   "outputs": [
    {
     "data": {
      "application/vnd.jupyter.widget-view+json": {
       "model_id": "be01e3e5b2684e018d332c5a56629a93",
       "version_major": 2,
       "version_minor": 0
      },
      "text/plain": [
       "  0%|          | 0/4 [00:00<?, ?it/s]"
      ]
     },
     "metadata": {},
     "output_type": "display_data"
    }
   ],
   "source": [
    "# List to store the responses\n",
    "responses = []\n",
    "\n",
    "# Iterate over the files in the directory\n",
    "for filename in tqdm(os.listdir(directory)):\n",
    "    if filename.endswith(\".txt\"):\n",
    "        try:\n",
    "            with open(os.path.join(directory, filename), \"r\") as file:\n",
    "                text = file.read()\n",
    "\n",
    "            # Construct the prompt\n",
    "            PROMPT = instruction + text + json_template_instruction\n",
    "\n",
    "            completion = client.chat.completions.create(\n",
    "                        model=\"NousResearch/Nous-Hermes-2-Mixtral-8x7B-DPO\",\n",
    "                        messages=[\n",
    "                            {\"role\": \"system\", \"content\": system_prompt},\n",
    "                            {\"role\": \"user\", \"content\": PROMPT}\n",
    "                                ],\n",
    "                                temperature=0.2\n",
    "\n",
    ")\n",
    "            responses.append(completion.choices[0].message.content)\n",
    "\n",
    "        except Exception as e:\n",
    "            print(f\"Error processing file {filename}: {e}\")\n",
    "\n"
   ]
  },
  {
   "cell_type": "code",
   "execution_count": null,
   "metadata": {},
   "outputs": [],
   "source": [
    "# pickle the responses\n",
    "import pickle\n",
    "with open(\"responses.pkl\", \"wb\") as f:\n",
    "    pickle.dump(responses, f)\n",
    "responses"
   ]
  },
  {
   "cell_type": "code",
   "execution_count": 16,
   "metadata": {},
   "outputs": [],
   "source": [
    "import pandas as pd"
   ]
  },
  {
   "cell_type": "code",
   "execution_count": 18,
   "metadata": {},
   "outputs": [
    {
     "data": {
      "text/plain": [
       "'summary_excel_demo.xlsx'"
      ]
     },
     "execution_count": 18,
     "metadata": {},
     "output_type": "execute_result"
    }
   ],
   "source": [
    "# Transforming the data for Excel\n",
    "data_for_excel = []\n",
    "for summary in responses:\n",
    "    summary = json.loads(summary)\n",
    "    row = {\n",
    "        \"Summary\": summary[\"summary\"],\n",
    "        \"Means at Hand\": \", \".join(summary[\"categories\"][0][\"selected_categories\"]),\n",
    "        \"Affordable Loss\": summary[\"categories\"][1][\"selected_level\"],\n",
    "        \"Strategic Partnerships\": \", \".join(summary[\"categories\"][2][\"selected_types\"]),\n",
    "        \"Leveraging Contingencies\": summary[\"categories\"][3][\"example\"],\n",
    "        \"Goal Reassessment and Iteration\": summary[\"categories\"][4][\"example\"],\n",
    "        \"Market Research and Analysis\": summary[\"categories\"][5][\"example\"],\n",
    "        \"Funding and Investment\": \", \".join(summary[\"categories\"][6][\"selected_categories\"]),\n",
    "        \"Crisis Management and Adaptability\": summary[\"categories\"][7][\"example\"],\n",
    "    }\n",
    "    data_for_excel.append(row)\n",
    "\n",
    "# Create a DataFrame\n",
    "df = pd.DataFrame(data_for_excel)\n",
    "\n",
    "# Save to Excel\n",
    "excel_path = \"summary_excel_demo.xlsx\"\n",
    "df.to_excel(excel_path, index=False)\n",
    "\n",
    "excel_path"
   ]
  },
  {
   "cell_type": "code",
   "execution_count": null,
   "metadata": {},
   "outputs": [],
   "source": []
  }
 ],
 "metadata": {
  "kernelspec": {
   "display_name": "bds-streamlit",
   "language": "python",
   "name": "python3"
  },
  "language_info": {
   "codemirror_mode": {
    "name": "ipython",
    "version": 3
   },
   "file_extension": ".py",
   "mimetype": "text/x-python",
   "name": "python",
   "nbconvert_exporter": "python",
   "pygments_lexer": "ipython3",
   "version": "3.11.4"
  }
 },
 "nbformat": 4,
 "nbformat_minor": 2
}
